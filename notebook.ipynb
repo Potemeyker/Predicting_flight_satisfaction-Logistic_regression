{
 "cells": [
  {
   "cell_type": "code",
   "id": "initial_id",
   "metadata": {
    "collapsed": true,
    "ExecuteTime": {
     "end_time": "2025-07-19T08:51:40.812419Z",
     "start_time": "2025-07-19T08:51:40.807165Z"
    }
   },
   "source": [
    "import numpy as np\n",
    "import pandas as pd\n",
    "\n",
    "import seaborn as sns\n",
    "import matplotlib.pyplot as plt"
   ],
   "outputs": [],
   "execution_count": 2
  },
  {
   "metadata": {},
   "cell_type": "markdown",
   "source": "# Описание проектной задачи",
   "id": "d4e48dcabc51f6d"
  },
  {
   "metadata": {},
   "cell_type": "markdown",
   "source": [
    "Необходимо научиться по результатам опроса, который авиакомпания проводит после полёта, предсказывать удовлетворённость пассажиров услугами авиакомпании и совершённым перелётом.\n",
    "\n",
    "После перелёта пассажир заполнял анкету, которая состоит из различных вопросов про условия на борту самолёта и качество предоставленных услуг. Последний вопрос в анкете был сформулирован таким образом: оцените свою удовлетворённость совершённым перелётом.\n",
    "\n",
    "Задача состоит в том, чтобы на основе того, как пассажир отвечал на остальные вопросы анкеты, предсказать, остался он удовлетворён полётом или нет. Данная задача является классической задачей бинарной классификации, и решить её предлагается с помощью модели логистической регрессии.\n",
    "\n",
    "Всего в данных представлены результаты **129 880** опросов."
   ],
   "id": "cd328b3d024d54aa"
  },
  {
   "metadata": {
    "ExecuteTime": {
     "end_time": "2025-07-19T08:51:40.988423Z",
     "start_time": "2025-07-19T08:51:40.830924Z"
    }
   },
   "cell_type": "code",
   "source": [
    "# загрузка данных\n",
    "data = pd.read_csv('data.csv')\n",
    "data.head(10)"
   ],
   "id": "d855e93a8c81075d",
   "outputs": [
    {
     "data": {
      "text/plain": [
       "   Gender      Customer Type  Age   Type of Travel     Class  Flight Distance  \\\n",
       "0    Male     Loyal Customer   13  Personal Travel  Eco Plus              460   \n",
       "1    Male  disloyal Customer   25  Business travel  Business              235   \n",
       "2  Female     Loyal Customer   26  Business travel  Business             1142   \n",
       "3  Female     Loyal Customer   25  Business travel  Business              562   \n",
       "4    Male     Loyal Customer   61  Business travel  Business              214   \n",
       "5  Female     Loyal Customer   26  Personal Travel       Eco             1180   \n",
       "6    Male     Loyal Customer   47  Personal Travel       Eco             1276   \n",
       "7  Female     Loyal Customer   52  Business travel  Business             2035   \n",
       "8  Female     Loyal Customer   41  Business travel  Business              853   \n",
       "9    Male  disloyal Customer   20  Business travel       Eco             1061   \n",
       "\n",
       "   Inflight wifi service  Departure/Arrival time convenient  \\\n",
       "0                      3                                  4   \n",
       "1                      3                                  2   \n",
       "2                      2                                  2   \n",
       "3                      2                                  5   \n",
       "4                      3                                  3   \n",
       "5                      3                                  4   \n",
       "6                      2                                  4   \n",
       "7                      4                                  3   \n",
       "8                      1                                  2   \n",
       "9                      3                                  3   \n",
       "\n",
       "   Ease of Online booking  Gate location  ...  Seat comfort  \\\n",
       "0                       3              1  ...             5   \n",
       "1                       3              3  ...             1   \n",
       "2                       2              2  ...             5   \n",
       "3                       5              5  ...             2   \n",
       "4                       3              3  ...             5   \n",
       "5                       2              1  ...             1   \n",
       "6                       2              3  ...             2   \n",
       "7                       4              4  ...             5   \n",
       "8                       2              2  ...             3   \n",
       "9                       3              4  ...             3   \n",
       "\n",
       "   Inflight entertainment  On-board service  Leg room service  \\\n",
       "0                       5                 4                 3   \n",
       "1                       1                 1                 5   \n",
       "2                       5                 4                 3   \n",
       "3                       2                 2                 5   \n",
       "4                       3                 3                 4   \n",
       "5                       1                 3                 4   \n",
       "6                       2                 3                 3   \n",
       "7                       5                 5                 5   \n",
       "8                       1                 1                 2   \n",
       "9                       2                 2                 3   \n",
       "\n",
       "   Baggage handling  Checkin service  Cleanliness  Departure Delay in Minutes  \\\n",
       "0                 4                4            5                          25   \n",
       "1                 3                1            1                           1   \n",
       "2                 4                4            5                           0   \n",
       "3                 3                1            2                          11   \n",
       "4                 4                3            3                           0   \n",
       "5                 4                4            1                           0   \n",
       "6                 4                3            2                           9   \n",
       "7                 5                4            4                           4   \n",
       "8                 1                4            2                           0   \n",
       "9                 4                4            2                           0   \n",
       "\n",
       "   Arrival Delay in Minutes  satisfaction  \n",
       "0                      18.0         False  \n",
       "1                       6.0         False  \n",
       "2                       0.0          True  \n",
       "3                       9.0         False  \n",
       "4                       0.0          True  \n",
       "5                       0.0         False  \n",
       "6                      23.0         False  \n",
       "7                       0.0          True  \n",
       "8                       0.0         False  \n",
       "9                       0.0         False  \n",
       "\n",
       "[10 rows x 22 columns]"
      ],
      "text/html": [
       "<div>\n",
       "<style scoped>\n",
       "    .dataframe tbody tr th:only-of-type {\n",
       "        vertical-align: middle;\n",
       "    }\n",
       "\n",
       "    .dataframe tbody tr th {\n",
       "        vertical-align: top;\n",
       "    }\n",
       "\n",
       "    .dataframe thead th {\n",
       "        text-align: right;\n",
       "    }\n",
       "</style>\n",
       "<table border=\"1\" class=\"dataframe\">\n",
       "  <thead>\n",
       "    <tr style=\"text-align: right;\">\n",
       "      <th></th>\n",
       "      <th>Gender</th>\n",
       "      <th>Customer Type</th>\n",
       "      <th>Age</th>\n",
       "      <th>Type of Travel</th>\n",
       "      <th>Class</th>\n",
       "      <th>Flight Distance</th>\n",
       "      <th>Inflight wifi service</th>\n",
       "      <th>Departure/Arrival time convenient</th>\n",
       "      <th>Ease of Online booking</th>\n",
       "      <th>Gate location</th>\n",
       "      <th>...</th>\n",
       "      <th>Seat comfort</th>\n",
       "      <th>Inflight entertainment</th>\n",
       "      <th>On-board service</th>\n",
       "      <th>Leg room service</th>\n",
       "      <th>Baggage handling</th>\n",
       "      <th>Checkin service</th>\n",
       "      <th>Cleanliness</th>\n",
       "      <th>Departure Delay in Minutes</th>\n",
       "      <th>Arrival Delay in Minutes</th>\n",
       "      <th>satisfaction</th>\n",
       "    </tr>\n",
       "  </thead>\n",
       "  <tbody>\n",
       "    <tr>\n",
       "      <th>0</th>\n",
       "      <td>Male</td>\n",
       "      <td>Loyal Customer</td>\n",
       "      <td>13</td>\n",
       "      <td>Personal Travel</td>\n",
       "      <td>Eco Plus</td>\n",
       "      <td>460</td>\n",
       "      <td>3</td>\n",
       "      <td>4</td>\n",
       "      <td>3</td>\n",
       "      <td>1</td>\n",
       "      <td>...</td>\n",
       "      <td>5</td>\n",
       "      <td>5</td>\n",
       "      <td>4</td>\n",
       "      <td>3</td>\n",
       "      <td>4</td>\n",
       "      <td>4</td>\n",
       "      <td>5</td>\n",
       "      <td>25</td>\n",
       "      <td>18.0</td>\n",
       "      <td>False</td>\n",
       "    </tr>\n",
       "    <tr>\n",
       "      <th>1</th>\n",
       "      <td>Male</td>\n",
       "      <td>disloyal Customer</td>\n",
       "      <td>25</td>\n",
       "      <td>Business travel</td>\n",
       "      <td>Business</td>\n",
       "      <td>235</td>\n",
       "      <td>3</td>\n",
       "      <td>2</td>\n",
       "      <td>3</td>\n",
       "      <td>3</td>\n",
       "      <td>...</td>\n",
       "      <td>1</td>\n",
       "      <td>1</td>\n",
       "      <td>1</td>\n",
       "      <td>5</td>\n",
       "      <td>3</td>\n",
       "      <td>1</td>\n",
       "      <td>1</td>\n",
       "      <td>1</td>\n",
       "      <td>6.0</td>\n",
       "      <td>False</td>\n",
       "    </tr>\n",
       "    <tr>\n",
       "      <th>2</th>\n",
       "      <td>Female</td>\n",
       "      <td>Loyal Customer</td>\n",
       "      <td>26</td>\n",
       "      <td>Business travel</td>\n",
       "      <td>Business</td>\n",
       "      <td>1142</td>\n",
       "      <td>2</td>\n",
       "      <td>2</td>\n",
       "      <td>2</td>\n",
       "      <td>2</td>\n",
       "      <td>...</td>\n",
       "      <td>5</td>\n",
       "      <td>5</td>\n",
       "      <td>4</td>\n",
       "      <td>3</td>\n",
       "      <td>4</td>\n",
       "      <td>4</td>\n",
       "      <td>5</td>\n",
       "      <td>0</td>\n",
       "      <td>0.0</td>\n",
       "      <td>True</td>\n",
       "    </tr>\n",
       "    <tr>\n",
       "      <th>3</th>\n",
       "      <td>Female</td>\n",
       "      <td>Loyal Customer</td>\n",
       "      <td>25</td>\n",
       "      <td>Business travel</td>\n",
       "      <td>Business</td>\n",
       "      <td>562</td>\n",
       "      <td>2</td>\n",
       "      <td>5</td>\n",
       "      <td>5</td>\n",
       "      <td>5</td>\n",
       "      <td>...</td>\n",
       "      <td>2</td>\n",
       "      <td>2</td>\n",
       "      <td>2</td>\n",
       "      <td>5</td>\n",
       "      <td>3</td>\n",
       "      <td>1</td>\n",
       "      <td>2</td>\n",
       "      <td>11</td>\n",
       "      <td>9.0</td>\n",
       "      <td>False</td>\n",
       "    </tr>\n",
       "    <tr>\n",
       "      <th>4</th>\n",
       "      <td>Male</td>\n",
       "      <td>Loyal Customer</td>\n",
       "      <td>61</td>\n",
       "      <td>Business travel</td>\n",
       "      <td>Business</td>\n",
       "      <td>214</td>\n",
       "      <td>3</td>\n",
       "      <td>3</td>\n",
       "      <td>3</td>\n",
       "      <td>3</td>\n",
       "      <td>...</td>\n",
       "      <td>5</td>\n",
       "      <td>3</td>\n",
       "      <td>3</td>\n",
       "      <td>4</td>\n",
       "      <td>4</td>\n",
       "      <td>3</td>\n",
       "      <td>3</td>\n",
       "      <td>0</td>\n",
       "      <td>0.0</td>\n",
       "      <td>True</td>\n",
       "    </tr>\n",
       "    <tr>\n",
       "      <th>5</th>\n",
       "      <td>Female</td>\n",
       "      <td>Loyal Customer</td>\n",
       "      <td>26</td>\n",
       "      <td>Personal Travel</td>\n",
       "      <td>Eco</td>\n",
       "      <td>1180</td>\n",
       "      <td>3</td>\n",
       "      <td>4</td>\n",
       "      <td>2</td>\n",
       "      <td>1</td>\n",
       "      <td>...</td>\n",
       "      <td>1</td>\n",
       "      <td>1</td>\n",
       "      <td>3</td>\n",
       "      <td>4</td>\n",
       "      <td>4</td>\n",
       "      <td>4</td>\n",
       "      <td>1</td>\n",
       "      <td>0</td>\n",
       "      <td>0.0</td>\n",
       "      <td>False</td>\n",
       "    </tr>\n",
       "    <tr>\n",
       "      <th>6</th>\n",
       "      <td>Male</td>\n",
       "      <td>Loyal Customer</td>\n",
       "      <td>47</td>\n",
       "      <td>Personal Travel</td>\n",
       "      <td>Eco</td>\n",
       "      <td>1276</td>\n",
       "      <td>2</td>\n",
       "      <td>4</td>\n",
       "      <td>2</td>\n",
       "      <td>3</td>\n",
       "      <td>...</td>\n",
       "      <td>2</td>\n",
       "      <td>2</td>\n",
       "      <td>3</td>\n",
       "      <td>3</td>\n",
       "      <td>4</td>\n",
       "      <td>3</td>\n",
       "      <td>2</td>\n",
       "      <td>9</td>\n",
       "      <td>23.0</td>\n",
       "      <td>False</td>\n",
       "    </tr>\n",
       "    <tr>\n",
       "      <th>7</th>\n",
       "      <td>Female</td>\n",
       "      <td>Loyal Customer</td>\n",
       "      <td>52</td>\n",
       "      <td>Business travel</td>\n",
       "      <td>Business</td>\n",
       "      <td>2035</td>\n",
       "      <td>4</td>\n",
       "      <td>3</td>\n",
       "      <td>4</td>\n",
       "      <td>4</td>\n",
       "      <td>...</td>\n",
       "      <td>5</td>\n",
       "      <td>5</td>\n",
       "      <td>5</td>\n",
       "      <td>5</td>\n",
       "      <td>5</td>\n",
       "      <td>4</td>\n",
       "      <td>4</td>\n",
       "      <td>4</td>\n",
       "      <td>0.0</td>\n",
       "      <td>True</td>\n",
       "    </tr>\n",
       "    <tr>\n",
       "      <th>8</th>\n",
       "      <td>Female</td>\n",
       "      <td>Loyal Customer</td>\n",
       "      <td>41</td>\n",
       "      <td>Business travel</td>\n",
       "      <td>Business</td>\n",
       "      <td>853</td>\n",
       "      <td>1</td>\n",
       "      <td>2</td>\n",
       "      <td>2</td>\n",
       "      <td>2</td>\n",
       "      <td>...</td>\n",
       "      <td>3</td>\n",
       "      <td>1</td>\n",
       "      <td>1</td>\n",
       "      <td>2</td>\n",
       "      <td>1</td>\n",
       "      <td>4</td>\n",
       "      <td>2</td>\n",
       "      <td>0</td>\n",
       "      <td>0.0</td>\n",
       "      <td>False</td>\n",
       "    </tr>\n",
       "    <tr>\n",
       "      <th>9</th>\n",
       "      <td>Male</td>\n",
       "      <td>disloyal Customer</td>\n",
       "      <td>20</td>\n",
       "      <td>Business travel</td>\n",
       "      <td>Eco</td>\n",
       "      <td>1061</td>\n",
       "      <td>3</td>\n",
       "      <td>3</td>\n",
       "      <td>3</td>\n",
       "      <td>4</td>\n",
       "      <td>...</td>\n",
       "      <td>3</td>\n",
       "      <td>2</td>\n",
       "      <td>2</td>\n",
       "      <td>3</td>\n",
       "      <td>4</td>\n",
       "      <td>4</td>\n",
       "      <td>2</td>\n",
       "      <td>0</td>\n",
       "      <td>0.0</td>\n",
       "      <td>False</td>\n",
       "    </tr>\n",
       "  </tbody>\n",
       "</table>\n",
       "<p>10 rows × 22 columns</p>\n",
       "</div>"
      ]
     },
     "execution_count": 3,
     "metadata": {},
     "output_type": "execute_result"
    }
   ],
   "execution_count": 3
  },
  {
   "metadata": {},
   "cell_type": "markdown",
   "source": [
    "### Факторы:\n",
    "* **Gender** — пол пассажира (бинарный: **Female** — женский, **Male** — мужской).\n",
    "* **Customer Type** — тип пассажира (категориальный: **Loyal customer** — лояльный, **disloyal Customer** — не лояльный).\n",
    "* **Age** — возраст пассажира (численный).\n",
    "* **Type of Travel** — цель поездки (бинарный: **Personal Travel** — личная поездка, **Business Travel** — рабочая поездка).\n",
    "* **Class** — класс полёта (категориальный: **Business** — бизнес-класс, **Eco** — эконом, **Eco Plus** — эконом-плюс).\n",
    "* **Flight distance** — длина перелёта (численный).\n",
    "* **Inflight wifi service** — удовлетворённость сетью Wi-Fi на борту самолёта (численный: **1–5** или **0**, если не оценивался).\n",
    "* **Departure/Arrival time convenient** — удовлетворённость временем вылета/прилёта (численный: **1–5** или **0**, если не оценивался).\n",
    "* **Ease of Online booking** — удовлетворённость удобством онлайн-бронирования билетов (численный: **1–5** или **0**, если не оценивался).\n",
    "* **Gate location** — удовлетворённость расположением выходов на посадку (численный: **1–5** или **0**, если не оценивался).\n",
    "* **Food and drink** — удовлетворённость питанием на борту (численный: **1–5** или **0**, если не оценивался).\n",
    "* **Online boarding** — удовлетворённость удобством онлайн-регистрации на рейс (численный: **1–5** или **0**, если не оценивался).\n",
    "* **Seat comfort** — удовлетворённость удобством мест в самолёте (численный: **1–5** или **0**, если не оценивался).\n",
    "* **Inflight entertainment** — удовлетворённость уровнем развлечений на борту самолёта (численный: **1–5** или **0**, если не оценивался).\n",
    "* **On-board service** — удовлетворённость уровнем обслуживания на борту самолёта (численный: **1–5** или **0**, если не оценивался).\n",
    "* **Leg room service** — удовлетворённость местом для ног перед сиденьем (численный: **1–5** или **0**, если не оценивался).\n",
    "* **Baggage handling** — удовлетворённость обращением с багажом (численный: **1–5** или **0**, если не оценивался).\n",
    "* **Checkin service** — удовлетворённость обслуживанием на стойке регистрации (численный: **1–5** или **0**, если не оценивался).\n",
    "* **Cleanliness** — удовлетворённость чистотой в самолёте (численный: **1–5** или **0**, если не оценивался).\n",
    "* **Departure Delay in Minutes** — задержка отправления самолёта в минутах (численный: **1–5** или **0**, если не оценивался).\n",
    "* **Arrival Delay in Minutes** — задержка прибытия самолёта в минутах (численный: **1–5** или **0**, если не оценивался).\n",
    "\n",
    "### Предсказываемая характеристика:\n",
    "* **satisfaction** — удовлетворённость полётом (бинарный: **False** — пассажир остался не удовлетворён полётом, **True** — пассажир остался удовлетворён полётом)."
   ],
   "id": "39805d1e5720c128"
  },
  {
   "metadata": {},
   "cell_type": "markdown",
   "source": "# Разделение на тестовую и обучающие выборки",
   "id": "c31f8c81140f3833"
  },
  {
   "metadata": {},
   "cell_type": "markdown",
   "source": "Перед началом решения задачи необходимо разделить имеющиеся данные на обучающую и тестовую выборки, но перед этим желательно проверить данные на выбросы и удалить их. Тестовую выборку нужно отложить до момента итоговой оценки качества полученной модели. А для дальнейших исследований и непосредственно обучения модели — использовать обучающую выборку.",
   "id": "875ebb8ba85ac67f"
  },
  {
   "metadata": {
    "ExecuteTime": {
     "end_time": "2025-07-19T08:51:41.303944Z",
     "start_time": "2025-07-19T08:51:41.039978Z"
    }
   },
   "cell_type": "code",
   "source": [
    "# распределение возраста пассажиров\n",
    "sns.histplot(data['Age'], bins=79)"
   ],
   "id": "184f528aa1b7b918",
   "outputs": [
    {
     "data": {
      "text/plain": [
       "<Axes: xlabel='Age', ylabel='Count'>"
      ]
     },
     "execution_count": 4,
     "metadata": {},
     "output_type": "execute_result"
    },
    {
     "data": {
      "text/plain": [
       "<Figure size 640x480 with 1 Axes>"
      ],
      "image/png": "[encoded data removed]"
     },
     "metadata": {},
     "output_type": "display_data"
    }
   ],
   "execution_count": 4
  },
  {
   "metadata": {},
   "cell_type": "markdown",
   "source": "Возраст имеет нормально распределение, где среднее значение находится в районе 40 лет",
   "id": "f04f6b279d797482"
  },
  {
   "metadata": {
    "ExecuteTime": {
     "end_time": "2025-07-19T08:51:41.523837Z",
     "start_time": "2025-07-19T08:51:41.331572Z"
    }
   },
   "cell_type": "code",
   "source": [
    "# распределение длины палёта\n",
    "sns.histplot(data['Flight Distance'])"
   ],
   "id": "b962083a8c4453d7",
   "outputs": [
    {
     "data": {
      "text/plain": [
       "<Axes: xlabel='Flight Distance', ylabel='Count'>"
      ]
     },
     "execution_count": 5,
     "metadata": {},
     "output_type": "execute_result"
    },
    {
     "data": {
      "text/plain": [
       "<Figure size 640x480 with 1 Axes>"
      ],
      "image/png": "[encoded data removed]"
     },
     "metadata": {},
     "output_type": "display_data"
    }
   ],
   "execution_count": 5
  },
  {
   "metadata": {},
   "cell_type": "markdown",
   "source": "Есть небольшое количество полётов с длиной более 4000, что не является выбросами, так как такие большие перелёты возможны. Большая часть полётов имеет длину в районе 500, что является нормальным распределением.",
   "id": "3f24447e4b4ea04b"
  },
  {
   "metadata": {
    "ExecuteTime": {
     "end_time": "2025-07-19T09:33:49.383605Z",
     "start_time": "2025-07-19T09:33:49.193974Z"
    }
   },
   "cell_type": "code",
   "source": [
    "# распределение задержки отправления самолёта\n",
    "sns.histplot(data['Departure Delay in Minutes'], bins=100)"
   ],
   "id": "45e421eb39c4490f",
   "outputs": [
    {
     "data": {
      "text/plain": [
       "<Axes: xlabel='Departure Delay in Minutes', ylabel='Count'>"
      ]
     },
     "execution_count": 22,
     "metadata": {},
     "output_type": "execute_result"
    },
    {
     "data": {
      "text/plain": [
       "<Figure size 640x480 with 1 Axes>"
      ],
      "image/png": "[encoded data removed]"
     },
     "metadata": {},
     "output_type": "display_data"
    }
   ],
   "execution_count": 22
  },
  {
   "metadata": {},
   "cell_type": "markdown",
   "source": "Большая часть полётов не имеет задержки отправления, что является нормальным распределением. Некоторые из них имеют огромные значения (более 1000), что тоже нормально, так как иногда рейсы переносятся на сутки или больше)",
   "id": "bd5a2b0168e917d6"
  },
  {
   "metadata": {
    "ExecuteTime": {
     "end_time": "2025-07-19T09:46:10.670591Z",
     "start_time": "2025-07-19T09:46:10.521740Z"
    }
   },
   "cell_type": "code",
   "source": [
    "# распределение предсказываемого признака (удовлетворённость полётом)\n",
    "data.groupby('satisfaction', as_index=False)['Gender'].count()"
   ],
   "id": "e962f0f3d5bc07b5",
   "outputs": [
    {
     "data": {
      "text/plain": [
       "   satisfaction  Gender\n",
       "0         False   73452\n",
       "1          True   56428"
      ],
      "text/html": [
       "<div>\n",
       "<style scoped>\n",
       "    .dataframe tbody tr th:only-of-type {\n",
       "        vertical-align: middle;\n",
       "    }\n",
       "\n",
       "    .dataframe tbody tr th {\n",
       "        vertical-align: top;\n",
       "    }\n",
       "\n",
       "    .dataframe thead th {\n",
       "        text-align: right;\n",
       "    }\n",
       "</style>\n",
       "<table border=\"1\" class=\"dataframe\">\n",
       "  <thead>\n",
       "    <tr style=\"text-align: right;\">\n",
       "      <th></th>\n",
       "      <th>satisfaction</th>\n",
       "      <th>Gender</th>\n",
       "    </tr>\n",
       "  </thead>\n",
       "  <tbody>\n",
       "    <tr>\n",
       "      <th>0</th>\n",
       "      <td>False</td>\n",
       "      <td>73452</td>\n",
       "    </tr>\n",
       "    <tr>\n",
       "      <th>1</th>\n",
       "      <td>True</td>\n",
       "      <td>56428</td>\n",
       "    </tr>\n",
       "  </tbody>\n",
       "</table>\n",
       "</div>"
      ]
     },
     "execution_count": 26,
     "metadata": {},
     "output_type": "execute_result"
    },
    {
     "data": {
      "text/plain": [
       "<Figure size 640x480 with 1 Axes>"
      ],
      "image/png": "[encoded data removed]"
     },
     "metadata": {},
     "output_type": "display_data"
    }
   ],
   "execution_count": 26
  },
  {
   "metadata": {},
   "cell_type": "markdown",
   "source": "Признак распределён равномерно, поэтому модель будет обучена хорошо для обоих случаев.",
   "id": "e2c80cbc0c239d96"
  },
  {
   "metadata": {
    "ExecuteTime": {
     "end_time": "2025-07-19T09:50:18.739898Z",
     "start_time": "2025-07-19T09:50:18.723669Z"
    }
   },
   "cell_type": "code",
   "source": [
    "X = data.drop(columns='satisfaction')\n",
    "y = data['satisfaction']"
   ],
   "id": "e5da3dff2e7925cf",
   "outputs": [],
   "execution_count": 27
  },
  {
   "metadata": {
    "ExecuteTime": {
     "end_time": "2025-07-19T09:50:21.077218Z",
     "start_time": "2025-07-19T09:50:20.271997Z"
    }
   },
   "cell_type": "code",
   "source": [
    "from sklearn.model_selection import train_test_split\n",
    "\n",
    "X_train, X_test, y_train, y_test = train_test_split(X, y, test_size=0.25, random_state=42)"
   ],
   "id": "b9a7241b01f8a38f",
   "outputs": [],
   "execution_count": 28
  },
  {
   "metadata": {},
   "cell_type": "markdown",
   "source": "",
   "id": "961100a6f0386e68"
  }
 ],
 "metadata": {
  "kernelspec": {
   "display_name": "Python 3",
   "language": "python",
   "name": "python3"
  },
  "language_info": {
   "codemirror_mode": {
    "name": "ipython",
    "version": 2
   },
   "file_extension": ".py",
   "mimetype": "text/x-python",
   "name": "python",
   "nbconvert_exporter": "python",
   "pygments_lexer": "ipython2",
   "version": "2.7.6"
  }
 },
 "nbformat": 4,
 "nbformat_minor": 5
}
